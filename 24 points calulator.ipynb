{
 "cells": [
  {
   "cell_type": "code",
   "execution_count": 61,
   "metadata": {},
   "outputs": [],
   "source": [
    "a=(3,3,8,8)"
   ]
  },
  {
   "cell_type": "code",
   "execution_count": 62,
   "metadata": {},
   "outputs": [],
   "source": [
    "# permutations using library function \n",
    "from itertools import permutations \n",
    "  \n",
    "# Get all permutations of a\n",
    "perm = permutations(a) "
   ]
  },
  {
   "cell_type": "code",
   "execution_count": 63,
   "metadata": {},
   "outputs": [
    {
     "name": "stdout",
     "output_type": "stream",
     "text": [
      "8 2.6666666666666665 0.3333333333333335 23.99999999999999\n",
      "8 2.6666666666666665 0.3333333333333335 23.99999999999999\n",
      "8 2.6666666666666665 0.3333333333333335 23.99999999999999\n",
      "8 2.6666666666666665 0.3333333333333335 23.99999999999999\n"
     ]
    }
   ],
   "source": [
    "for i in perm:\n",
    "    s1=i[0]+i[1]\n",
    "    m1=i[0]-i[1]\n",
    "    t1=i[0]*i[1]\n",
    "    d1=i[0]/i[1]\n",
    "    b=(s1,m1,t1,d1)\n",
    "    for j in b:\n",
    "        s2=j+i[2]\n",
    "        m2=j-i[2]\n",
    "        t2=j*i[2]\n",
    "        d2=j/i[2]\n",
    "        mm2=i[2]-j\n",
    "        try:\n",
    "            dd2=i[2]/j\n",
    "        except ZeroDivisionError:\n",
    "            dd2=0\n",
    "        c=(s2,m2,t2,d2,mm2,dd2)\n",
    "        for k in c:\n",
    "            s3=k+i[3]\n",
    "            m3=k-i[3]\n",
    "            t3=k*i[3]\n",
    "            d3=k/i[3]\n",
    "            mm3=i[3]-k\n",
    "            try:\n",
    "                dd3=i[3]/k\n",
    "            except ZeroDivisionError:\n",
    "                dd3=0\n",
    "            d=(s3,m3,t3,d3,mm3,dd3)\n",
    "            for final in d:\n",
    "                if -0.001<=final -24 <=0.001:\n",
    "                    print(i[0],j,k,final)\n",
    "                \n",
    "    "
   ]
  },
  {
   "cell_type": "code",
   "execution_count": null,
   "metadata": {},
   "outputs": [],
   "source": []
  }
 ],
 "metadata": {
  "kernelspec": {
   "display_name": "Python 3",
   "language": "python",
   "name": "python3"
  },
  "language_info": {
   "codemirror_mode": {
    "name": "ipython",
    "version": 3
   },
   "file_extension": ".py",
   "mimetype": "text/x-python",
   "name": "python",
   "nbconvert_exporter": "python",
   "pygments_lexer": "ipython3",
   "version": "3.6.5"
  }
 },
 "nbformat": 4,
 "nbformat_minor": 2
}
